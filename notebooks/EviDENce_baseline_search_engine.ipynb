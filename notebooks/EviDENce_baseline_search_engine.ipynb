{
 "cells": [
  {
   "cell_type": "markdown",
   "metadata": {},
   "source": [
    "## Baseline search engine for EviDENce\n",
    "\n",
    "Search strategy\n",
    "\n",
    "1. Collect corpus to perform search on\n",
    "2. Index documents in corpus\n",
    "3. Collect Keywords\n",
    "4. Perform search\n",
    "6. Analyze results\n",
    "\n",
    "Please see accompanying script baseline_search.py for detailed info. "
   ]
  },
  {
   "cell_type": "code",
   "execution_count": 1,
   "metadata": {},
   "outputs": [],
   "source": [
    "# Imports from python libraries\n",
    "import matplotlib.pyplot as plt\n",
    "import numpy as np\n",
    "import os\n",
    "import pandas as pd\n",
    "import string\n",
    "import sys\n",
    "\n",
    "# Imports from own script\n",
    "from baseline_search import create_searchable_data\n",
    "from baseline_search import create_searchable_data2\n",
    "from baseline_search import create_lemma\n",
    "from baseline_search import ceo_classes\n",
    "from baseline_search import eng_to_dutch\n",
    "from baseline_search import search_corpus\n",
    "from baseline_search import quote_phrase\n",
    "\n",
    "# disable SettingWithCopyWarning warning (default='warn')\n",
    "pd.options.mode.chained_assignment = None "
   ]
  },
  {
   "cell_type": "code",
   "execution_count": 2,
   "metadata": {},
   "outputs": [],
   "source": [
    "# Define paths:\n",
    "\n",
    "# to extracted folder with lemma fragments\n",
    "root = os.path.join(os.sep,\"media\",\"sf_MartinedeVos\")\n",
    "manual_set = os.path.join(root,\"TargetSize150\",\"Manual_annotation_sets-20190110T093859Z-001\")\n",
    "search_dir = os.path.join(manual_set,\"Auto_annotation_sets\")\n",
    "data = \"../data/\"\n",
    "\n",
    "# to reports on baseline_search results\n",
    "report = os.path.join(manual_set,\"Reports\")\n",
    "\n",
    "# to keywords\n",
    "ceo_file = os.path.join(data,\"MdV_selectedCEOECB.csv\")\n",
    "transl_file = os.path.join(data,\"Translated_lemmas.csv\")\n",
    "thes_file =os.path.join(data,\"Geweldslexicon obv WOIIThesaurus SH en JW.csv\")\n",
    "\n",
    "# to ground truth\n",
    "gt_file = os.path.join(manual_set,\"Manual Annotation Jeroen en Susan\",\"Manual annotation TOTAAL door Jeroen en Susan.csv\")"
   ]
  },
  {
   "cell_type": "markdown",
   "metadata": {},
   "source": [
    "### 1. Collect corpus to perform search on\n",
    "\n",
    "Our corpus consists of oral history accounts.\n",
    "These are broken up in text fragments -of 150 lemmas each- and can be found in a zip folder on surfdrive:\n",
    "\n",
    "../Data/NR-teksts/EviDENce_NR_output/TargetSize150/Lemma_preserve_paragraph.zip\n",
    "\n",
    "*Both the file names and path names are long. Make sure to extract the zip folder on high-level location on your computer a to avoid \"path-too-long\" error*\n"
   ]
  },
  {
   "cell_type": "markdown",
   "metadata": {},
   "source": [
    "### 2. Index all documents (i.e., lemma fragments) in the directory ###\n",
    "\n",
    "* Create Schema\n",
    "* Add documents\n",
    "* Perform indexing\n",
    "\n",
    "_NB: this step only has to be run once, or when data is added or changed_"
   ]
  },
  {
   "cell_type": "code",
   "execution_count": 3,
   "metadata": {},
   "outputs": [],
   "source": [
    "# The creation of an index is only needed once; after that, opending the existing index is sufficient\n",
    "# in that case, the following line should be commented out\n",
    "\n",
    "#create_searchable_data(search_dir)"
   ]
  },
  {
   "cell_type": "markdown",
   "metadata": {},
   "source": [
    "### 3. Collect list of keywords from an existing vocabulary\n",
    "\n",
    "Preprocessing entails:\n",
    "* manually select keywords related to violence\n",
    "* express keywords as lemmas to ensure more effective matching "
   ]
  },
  {
   "cell_type": "markdown",
   "metadata": {},
   "source": [
    "#### a.  Keywords from CEO-ECB mappings ####\n",
    "\n",
    "Keywords based on mappings from classes of the Circumstantial Event Ontology (CEO) on the ECB+ corpus\n",
    "* translate selected keywords to Dutch"
   ]
  },
  {
   "cell_type": "code",
   "execution_count": 4,
   "metadata": {},
   "outputs": [],
   "source": [
    "ceo_df = pd.read_csv(ceo_file,sep=';',encoding = \"ISO-8859-1\")\n",
    "ceo_df['wordnet_lemma']=ceo_df.apply(lambda x:create_lemma(x['Mention']), axis=1)"
   ]
  },
  {
   "cell_type": "markdown",
   "metadata": {},
   "source": [
    "NB: As automatic translation is not stable or does not provide sufficient results, please use following workaround"
   ]
  },
  {
   "cell_type": "code",
   "execution_count": 5,
   "metadata": {},
   "outputs": [
    {
     "data": {
      "text/html": [
       "<div>\n",
       "<style scoped>\n",
       "    .dataframe tbody tr th:only-of-type {\n",
       "        vertical-align: middle;\n",
       "    }\n",
       "\n",
       "    .dataframe tbody tr th {\n",
       "        vertical-align: top;\n",
       "    }\n",
       "\n",
       "    .dataframe thead th {\n",
       "        text-align: right;\n",
       "    }\n",
       "</style>\n",
       "<table border=\"1\" class=\"dataframe\">\n",
       "  <thead>\n",
       "    <tr style=\"text-align: right;\">\n",
       "      <th></th>\n",
       "      <th>lemma ID</th>\n",
       "      <th>Lemma</th>\n",
       "      <th>Mention</th>\n",
       "      <th>Provenance</th>\n",
       "      <th>Corpus Frequency</th>\n",
       "      <th>CEO class</th>\n",
       "      <th>CEO class.1</th>\n",
       "      <th>CEO class.2</th>\n",
       "      <th>wordnet_lemma</th>\n",
       "      <th>Dutch</th>\n",
       "    </tr>\n",
       "  </thead>\n",
       "  <tbody>\n",
       "    <tr>\n",
       "      <th>0</th>\n",
       "      <td>12</td>\n",
       "      <td>alarm.v</td>\n",
       "      <td>alarm</td>\n",
       "      <td>automatic</td>\n",
       "      <td>7.0</td>\n",
       "      <td>/M</td>\n",
       "      <td>NaN</td>\n",
       "      <td>NaN</td>\n",
       "      <td>alarm</td>\n",
       "      <td>alarm</td>\n",
       "    </tr>\n",
       "    <tr>\n",
       "      <th>1</th>\n",
       "      <td>21</td>\n",
       "      <td>armed.a</td>\n",
       "      <td>armed</td>\n",
       "      <td>automatic</td>\n",
       "      <td>1.0</td>\n",
       "      <td>BeingArmed</td>\n",
       "      <td>NaN</td>\n",
       "      <td>NaN</td>\n",
       "      <td>arm</td>\n",
       "      <td>arm</td>\n",
       "    </tr>\n",
       "    <tr>\n",
       "      <th>2</th>\n",
       "      <td>23</td>\n",
       "      <td>arrest.n</td>\n",
       "      <td>arrest</td>\n",
       "      <td>automatic</td>\n",
       "      <td>30.0</td>\n",
       "      <td>Arresting</td>\n",
       "      <td>NaN</td>\n",
       "      <td>NaN</td>\n",
       "      <td>arrest</td>\n",
       "      <td>arresteren</td>\n",
       "    </tr>\n",
       "    <tr>\n",
       "      <th>3</th>\n",
       "      <td>23</td>\n",
       "      <td>arrest.v</td>\n",
       "      <td>arrested</td>\n",
       "      <td>automatic</td>\n",
       "      <td>100.0</td>\n",
       "      <td>Arresting</td>\n",
       "      <td>NaN</td>\n",
       "      <td>NaN</td>\n",
       "      <td>arrest</td>\n",
       "      <td>arresteren</td>\n",
       "    </tr>\n",
       "    <tr>\n",
       "      <th>4</th>\n",
       "      <td>23</td>\n",
       "      <td>NaN</td>\n",
       "      <td>arresting</td>\n",
       "      <td>automatic</td>\n",
       "      <td>1.0</td>\n",
       "      <td>Arresting</td>\n",
       "      <td>NaN</td>\n",
       "      <td>NaN</td>\n",
       "      <td>arrest</td>\n",
       "      <td>arresteren</td>\n",
       "    </tr>\n",
       "    <tr>\n",
       "      <th>5</th>\n",
       "      <td>23</td>\n",
       "      <td>NaN</td>\n",
       "      <td>arrests</td>\n",
       "      <td>automatic</td>\n",
       "      <td>10.0</td>\n",
       "      <td>Arresting</td>\n",
       "      <td>NaN</td>\n",
       "      <td>NaN</td>\n",
       "      <td>arrest</td>\n",
       "      <td>arresteren</td>\n",
       "    </tr>\n",
       "    <tr>\n",
       "      <th>6</th>\n",
       "      <td>24</td>\n",
       "      <td>arson</td>\n",
       "      <td>arson</td>\n",
       "      <td>automatic</td>\n",
       "      <td>21.0</td>\n",
       "      <td>Arson</td>\n",
       "      <td>NaN</td>\n",
       "      <td>NaN</td>\n",
       "      <td>arson</td>\n",
       "      <td>brandstichting</td>\n",
       "    </tr>\n",
       "    <tr>\n",
       "      <th>7</th>\n",
       "      <td>25</td>\n",
       "      <td>assassinate</td>\n",
       "      <td>assassinate</td>\n",
       "      <td>automatic</td>\n",
       "      <td>3.0</td>\n",
       "      <td>Murder</td>\n",
       "      <td>NaN</td>\n",
       "      <td>NaN</td>\n",
       "      <td>assassinate</td>\n",
       "      <td>vermoorden</td>\n",
       "    </tr>\n",
       "    <tr>\n",
       "      <th>8</th>\n",
       "      <td>25</td>\n",
       "      <td>assassination</td>\n",
       "      <td>assassination</td>\n",
       "      <td>automatic</td>\n",
       "      <td>2.0</td>\n",
       "      <td>Murder</td>\n",
       "      <td>NaN</td>\n",
       "      <td>NaN</td>\n",
       "      <td>assassination</td>\n",
       "      <td>moord</td>\n",
       "    </tr>\n",
       "    <tr>\n",
       "      <th>9</th>\n",
       "      <td>26</td>\n",
       "      <td>assault.n</td>\n",
       "      <td>assault</td>\n",
       "      <td>automatic</td>\n",
       "      <td>25.0</td>\n",
       "      <td>Attacking</td>\n",
       "      <td>NaN</td>\n",
       "      <td>NaN</td>\n",
       "      <td>assault</td>\n",
       "      <td>aanval</td>\n",
       "    </tr>\n",
       "  </tbody>\n",
       "</table>\n",
       "</div>"
      ],
      "text/plain": [
       "   lemma ID          Lemma        Mention Provenance  Corpus Frequency  \\\n",
       "0        12        alarm.v          alarm  automatic               7.0   \n",
       "1        21        armed.a          armed  automatic               1.0   \n",
       "2        23       arrest.n         arrest  automatic              30.0   \n",
       "3        23       arrest.v       arrested  automatic             100.0   \n",
       "4        23            NaN      arresting  automatic               1.0   \n",
       "5        23            NaN        arrests  automatic              10.0   \n",
       "6        24          arson          arson  automatic              21.0   \n",
       "7        25    assassinate    assassinate  automatic               3.0   \n",
       "8        25  assassination  assassination  automatic               2.0   \n",
       "9        26      assault.n        assault  automatic              25.0   \n",
       "\n",
       "    CEO class CEO class.1 CEO class.2  wordnet_lemma           Dutch  \n",
       "0          /M         NaN         NaN          alarm           alarm  \n",
       "1  BeingArmed         NaN         NaN            arm             arm  \n",
       "2   Arresting         NaN         NaN         arrest      arresteren  \n",
       "3   Arresting         NaN         NaN         arrest      arresteren  \n",
       "4   Arresting         NaN         NaN         arrest      arresteren  \n",
       "5   Arresting         NaN         NaN         arrest      arresteren  \n",
       "6       Arson         NaN         NaN          arson  brandstichting  \n",
       "7      Murder         NaN         NaN    assassinate      vermoorden  \n",
       "8      Murder         NaN         NaN  assassination           moord  \n",
       "9   Attacking         NaN         NaN        assault          aanval  "
      ]
     },
     "execution_count": 5,
     "metadata": {},
     "output_type": "execute_result"
    }
   ],
   "source": [
    "transl_df = pd.read_csv(transl_file,sep=',',encoding = \"ISO-8859-1\") \n",
    "\n",
    "ceo_df['Dutch']= transl_df['Dutch']\n",
    "# Add quotes in case of multiple words to enable 'phrase queries'.\n",
    "ceo_df['Dutch']= ceo_df.apply(lambda x:quote_phrase(x['Dutch']), axis=1)\n",
    "ceo_list = list(ceo_df['Dutch'])\n",
    "\n",
    "ceo_df[0:10]"
   ]
  },
  {
   "cell_type": "markdown",
   "metadata": {},
   "source": [
    "Create dictionary with CEO class per unique keyword"
   ]
  },
  {
   "cell_type": "markdown",
   "metadata": {},
   "source": [
    "#### b.  Keywords from WW2 Thesaurus ####\n",
    "\n",
    "The WW2 Thesaurus describes keywords related to events, locations, concepts and objects from the second world war."
   ]
  },
  {
   "cell_type": "code",
   "execution_count": 6,
   "metadata": {},
   "outputs": [
    {
     "data": {
      "text/html": [
       "<div>\n",
       "<style scoped>\n",
       "    .dataframe tbody tr th:only-of-type {\n",
       "        vertical-align: middle;\n",
       "    }\n",
       "\n",
       "    .dataframe tbody tr th {\n",
       "        vertical-align: top;\n",
       "    }\n",
       "\n",
       "    .dataframe thead th {\n",
       "        text-align: right;\n",
       "    }\n",
       "</style>\n",
       "<table border=\"1\" class=\"dataframe\">\n",
       "  <thead>\n",
       "    <tr style=\"text-align: right;\">\n",
       "      <th></th>\n",
       "      <th>Label</th>\n",
       "      <th>Susan</th>\n",
       "      <th>Jeroen</th>\n",
       "    </tr>\n",
       "  </thead>\n",
       "  <tbody>\n",
       "    <tr>\n",
       "      <th>45</th>\n",
       "      <td>KriegsfÃ¼hrung</td>\n",
       "      <td>NaN</td>\n",
       "      <td>NaN</td>\n",
       "    </tr>\n",
       "    <tr>\n",
       "      <th>46</th>\n",
       "      <td>Oorlogvoering</td>\n",
       "      <td>NaN</td>\n",
       "      <td>Oorlogvoering</td>\n",
       "    </tr>\n",
       "    <tr>\n",
       "      <th>47</th>\n",
       "      <td>Warfare</td>\n",
       "      <td>NaN</td>\n",
       "      <td>NaN</td>\n",
       "    </tr>\n",
       "    <tr>\n",
       "      <th>48</th>\n",
       "      <td>Barricades</td>\n",
       "      <td>NaN</td>\n",
       "      <td>NaN</td>\n",
       "    </tr>\n",
       "    <tr>\n",
       "      <th>49</th>\n",
       "      <td>Versperringen</td>\n",
       "      <td>NaN</td>\n",
       "      <td>NaN</td>\n",
       "    </tr>\n",
       "    <tr>\n",
       "      <th>50</th>\n",
       "      <td>Barrieren</td>\n",
       "      <td>NaN</td>\n",
       "      <td>NaN</td>\n",
       "    </tr>\n",
       "    <tr>\n",
       "      <th>51</th>\n",
       "      <td>Grebbe line</td>\n",
       "      <td>NaN</td>\n",
       "      <td>NaN</td>\n",
       "    </tr>\n",
       "    <tr>\n",
       "      <th>52</th>\n",
       "      <td>Grebbelinie</td>\n",
       "      <td>NaN</td>\n",
       "      <td>NaN</td>\n",
       "    </tr>\n",
       "    <tr>\n",
       "      <th>53</th>\n",
       "      <td>Grebbe-Linie</td>\n",
       "      <td>NaN</td>\n",
       "      <td>NaN</td>\n",
       "    </tr>\n",
       "    <tr>\n",
       "      <th>54</th>\n",
       "      <td>Wannseeconferentie</td>\n",
       "      <td>NaN</td>\n",
       "      <td>NaN</td>\n",
       "    </tr>\n",
       "    <tr>\n",
       "      <th>55</th>\n",
       "      <td>Wannsee Conference</td>\n",
       "      <td>NaN</td>\n",
       "      <td>NaN</td>\n",
       "    </tr>\n",
       "    <tr>\n",
       "      <th>56</th>\n",
       "      <td>Wannseekonferenz</td>\n",
       "      <td>NaN</td>\n",
       "      <td>NaN</td>\n",
       "    </tr>\n",
       "    <tr>\n",
       "      <th>57</th>\n",
       "      <td>Jodenvervolging</td>\n",
       "      <td>NaN</td>\n",
       "      <td>Jodenvervolging</td>\n",
       "    </tr>\n",
       "    <tr>\n",
       "      <th>58</th>\n",
       "      <td>Holocaust</td>\n",
       "      <td>NaN</td>\n",
       "      <td>Holocaust</td>\n",
       "    </tr>\n",
       "    <tr>\n",
       "      <th>59</th>\n",
       "      <td>Persecution of Jews</td>\n",
       "      <td>NaN</td>\n",
       "      <td>NaN</td>\n",
       "    </tr>\n",
       "  </tbody>\n",
       "</table>\n",
       "</div>"
      ],
      "text/plain": [
       "                  Label Susan           Jeroen\n",
       "45       KriegsfÃ¼hrung   NaN              NaN\n",
       "46        Oorlogvoering   NaN    Oorlogvoering\n",
       "47              Warfare   NaN              NaN\n",
       "48           Barricades   NaN              NaN\n",
       "49        Versperringen   NaN              NaN\n",
       "50            Barrieren   NaN              NaN\n",
       "51          Grebbe line   NaN              NaN\n",
       "52          Grebbelinie   NaN              NaN\n",
       "53         Grebbe-Linie   NaN              NaN\n",
       "54   Wannseeconferentie   NaN              NaN\n",
       "55   Wannsee Conference   NaN              NaN\n",
       "56     Wannseekonferenz   NaN              NaN\n",
       "57      Jodenvervolging   NaN  Jodenvervolging\n",
       "58            Holocaust   NaN        Holocaust\n",
       "59  Persecution of Jews   NaN              NaN"
      ]
     },
     "execution_count": 6,
     "metadata": {},
     "output_type": "execute_result"
    }
   ],
   "source": [
    "thes_df = pd.read_csv(thes_file,sep=',',encoding = \"ISO-8859-1\")\n",
    "thes_df[45:60]"
   ]
  },
  {
   "cell_type": "markdown",
   "metadata": {},
   "source": [
    "Manual selection of relevant violence keywords is done by two annotators;\n",
    "We could either take the union (at least one of the annotators agrees) or intersection (both annotators agree) of the keyword selections"
   ]
  },
  {
   "cell_type": "code",
   "execution_count": 7,
   "metadata": {},
   "outputs": [
    {
     "name": "stdout",
     "output_type": "stream",
     "text": [
      "At least one annotator. Nr keywords: 111\n",
      "Both annotators. Nr keywords: 308\n"
     ]
    }
   ],
   "source": [
    "susan = thes_df['Susan'].dropna().str.lower().tolist()\n",
    "jeroen = thes_df['Jeroen'].dropna().str.lower().tolist()\n",
    "\n",
    "thes_intersect = [x for x in susan if x in jeroen]\n",
    "thes_union = set(susan+jeroen)\n",
    "\n",
    "print(\"At least one annotator. Nr keywords: %s\" %len(thes_intersect))\n",
    "print(\"Both annotators. Nr keywords: %s\" %len(thes_union))"
   ]
  },
  {
   "cell_type": "markdown",
   "metadata": {},
   "source": [
    "### 4. Perform search ###\n",
    "\n",
    "Documents are analyzed on the presence of at least one of the keywords (_OR group_) and results are sorted by their _TF IDF_ score. \n",
    "\n",
    "Results are stored in a pandas dataframe, which contains\n",
    "* all keywords, also those that are not present in documents\n",
    "* all documents, also those that have no keywords"
   ]
  },
  {
   "cell_type": "code",
   "execution_count": 8,
   "metadata": {},
   "outputs": [
    {
     "name": "stdout",
     "output_type": "stream",
     "text": [
      "Original corpus size: 976 \n",
      "Percentage documents with at least one keyword: 38.01229508196721 \n",
      "Total number of keywords used in query: 266 \n",
      "Percentage keywords found wrt to those used in query: 24.06015037593985 \n",
      "\n"
     ]
    },
    {
     "data": {
      "image/png": "[encoded data removed]",
      "text/plain": [
       "<Figure size 720x432 with 2 Axes>"
      ]
     },
     "metadata": {},
     "output_type": "display_data"
    }
   ],
   "source": [
    "indexdir = os.path.join(os.sep,search_dir,\"indexdir\")\n",
    "\n",
    "# Search results for selected keyword list\n",
    "merged_df = search_corpus(indexdir,ceo_list)"
   ]
  },
  {
   "cell_type": "markdown",
   "metadata": {},
   "source": [
    "**Additional analyses**"
   ]
  },
  {
   "cell_type": "code",
   "execution_count": 9,
   "metadata": {},
   "outputs": [
    {
     "data": {
      "text/plain": [
       "array(['\"Plat branden\"', '\"Rust in vrede\"', '\"dodelijk schieten\"',\n",
       "       '\"dood gaan\"', '\"dood schieten\"', '\"gegijzeld houden\"',\n",
       "       '\"gevangen nemen\"', '\"gevangenis periode\"', '\"grijp wapen\"',\n",
       "       '\"het schieten\"', '\"in brand gestoken\"', '\"in hechtenis nemen\"',\n",
       "       '\"knock out\"', '\"mensen missen)\"', '\"militante activiteit\"',\n",
       "       '\"omver gooien\"', '\"opzettelijk verwoesten\"', '\"pak slaag\"',\n",
       "       '\"pistool naar beneden\"', '\"schiet dood\"', '\"schieten op\"',\n",
       "       '\"slaan en rennen\"', '\"slecht behandelen\"',\n",
       "       '\"snijd in stuk jongen\"', '\"vloog in brand\"', '\"voorbij lopen\"',\n",
       "       '\"vuur aansteken\"', '\"vuur op\"', '\"wijs een geweer\"', 'Doodslag',\n",
       "       'Oorlog', 'aanvallend', 'alarm', 'bedreiging', 'bedwelmen',\n",
       "       'beschadigd', 'besnoeiing', 'bestolen', 'bloedbad',\n",
       "       'bloedvergieten', 'botsten', 'brandend', 'brandstichting',\n",
       "       'brandwond', 'carjacking', 'deporteren', 'diefstal', 'doelwit',\n",
       "       'dy', 'explosie', 'firebombed', 'gedood', 'geript', 'geschutvuur',\n",
       "       'gestoken', 'geweerschot', 'gewelddadig', 'gunpoint', 'haardvuur',\n",
       "       'handboei', 'handboeien', 'hechtenis', 'hel', 'hijack',\n",
       "       'hit-and-run', 'impasse', 'inbraak', 'intrappen', 'kaping',\n",
       "       'kruisvuur', 'kwellen', 'letsel', 'lijkschouwing', 'mensenjacht',\n",
       "       'misdrijf', 'molester', 'mortieraanval', 'onderzoeken', 'ongeval',\n",
       "       'ontbranden', 'ontploffen', 'ontvoering', 'oorlogvoering',\n",
       "       'opknoping', 'opsluiten', 'opsluiting', 'overtreding',\n",
       "       'overtreffen', 'pijn', 'piraat', 'rellen', 'ricochet', 'ricochete',\n",
       "       'ruï¿½neren', 'smeulen', 'stikken', 'stilgelegd', 'terreur',\n",
       "       'terrorisme', 'uitvoeren', 'uitvoering', 'vandalisme', 'vangst',\n",
       "       'vernietigd', 'vernietigt', 'veroordelen', 'verslikte',\n",
       "       'verwonden', 'vlam', 'vlogen', 'worstelen', 'zeeroof',\n",
       "       'zelfmoordpoging'], dtype=object)"
      ]
     },
     "execution_count": 9,
     "metadata": {},
     "output_type": "execute_result"
    }
   ],
   "source": [
    "sum_keywords = pd.Series(merged_df.sum().iloc[:-1])\n",
    "\n",
    "# Keywords not present in corpus\n",
    "missed_keywords = sum_keywords[sum_keywords == 0].index.values\n",
    "missed_keywords"
   ]
  },
  {
   "cell_type": "code",
   "execution_count": 10,
   "metadata": {},
   "outputs": [
    {
     "data": {
      "image/png": "[encoded data removed]",
      "text/plain": [
       "<Figure size 720x432 with 1 Axes>"
      ]
     },
     "metadata": {},
     "output_type": "display_data"
    }
   ],
   "source": [
    "ceo_classes(ceo_df,merged_df)"
   ]
  },
  {
   "cell_type": "markdown",
   "metadata": {},
   "source": [
    "### 5. Comparison with groundtruth ###\n",
    "\n",
    "a.  From ground truth: determine which fragments are relevant, i.e., related to violence "
   ]
  },
  {
   "cell_type": "code",
   "execution_count": 12,
   "metadata": {},
   "outputs": [],
   "source": [
    "# Prepare ground truth dataframe\n",
    "gt_df = pd.read_csv(gt_file,sep=',',encoding = \"ISO-8859-1\") \n",
    "\n",
    "# Random set for manual annotation contains duplicate fragments; remove these\n",
    "gt_all_df = gt_df.drop_duplicates(subset = ['Titel'])\n",
    "# Select all violent fragments\n",
    "gt_vio_df = gt_all_df[gt_all_df['EINDOORDEEL_janee']== 'ja']\n",
    "\n",
    "# Add columns with clean titles to enable comparison\n",
    "titles = gt_vio_df['Titel'].tolist()\n",
    "new_titles = [title.split('_text')[0] for title in titles]\n",
    "se = pd.Series(new_titles)\n",
    "gt_vio_df['clean title'] = se.values"
   ]
  },
  {
   "cell_type": "markdown",
   "metadata": {},
   "source": [
    "b. From baseline search: determine which fragments are correctly marked as violent"
   ]
  },
  {
   "cell_type": "code",
   "execution_count": 13,
   "metadata": {},
   "outputs": [],
   "source": [
    "merged_df['hits']=merged_df.sum(axis=1)\n",
    "base_vio_df = merged_df[merged_df['hits'] > 0]\n",
    "\n",
    "# Add columns with clean titles to enable comparison\n",
    "titles = base_vio_df.index.values.tolist()\n",
    "new_titles = [title.split('_lemma')[0] for title in titles]\n",
    "se = pd.Series(new_titles)\n",
    "base_vio_df['clean title'] = se.values\n",
    "\n",
    "# Select correctly annotated violent fragments\n",
    "base_vio_df['correct']= base_vio_df['clean title'].isin(gt_vio_df['clean title'])"
   ]
  },
  {
   "cell_type": "markdown",
   "metadata": {},
   "source": [
    "c. Determine recall and precision"
   ]
  },
  {
   "cell_type": "code",
   "execution_count": 14,
   "metadata": {},
   "outputs": [
    {
     "name": "stdout",
     "output_type": "stream",
     "text": [
      "Recall: 0.5737704918032787\n",
      "Precision: 0.2830188679245283\n"
     ]
    }
   ],
   "source": [
    "relevant = len(gt_vio_df['clean title'])\n",
    "retrieved = len(base_vio_df['clean title'])\n",
    "correct_retrieved = len(base_vio_df[base_vio_df['correct'] == True])\n",
    "\n",
    "recall = correct_retrieved/relevant\n",
    "precision = correct_retrieved/retrieved\n",
    "\n",
    "print('Recall: {}'.format(recall))\n",
    "print('Precision: {}'.format(precision))\n"
   ]
  }
 ],
 "metadata": {
  "kernelspec": {
   "display_name": "Python 3",
   "language": "python",
   "name": "python3"
  },
  "language_info": {
   "codemirror_mode": {
    "name": "ipython",
    "version": 3
   },
   "file_extension": ".py",
   "mimetype": "text/x-python",
   "name": "python",
   "nbconvert_exporter": "python",
   "pygments_lexer": "ipython3",
   "version": "3.6.5"
  }
 },
 "nbformat": 4,
 "nbformat_minor": 2
}
